{
  "nbformat": 4,
  "nbformat_minor": 0,
  "metadata": {
    "kernelspec": {
      "display_name": "Python 3",
      "language": "python",
      "name": "python3"
    },
    "language_info": {
      "codemirror_mode": {
        "name": "ipython",
        "version": 3
      },
      "file_extension": ".py",
      "mimetype": "text/x-python",
      "name": "python",
      "nbconvert_exporter": "python",
      "pygments_lexer": "ipython3",
      "version": "3.8.6"
    },
    "colab": {
      "name": "keypoint_classification_EN.ipynb",
      "provenance": [],
      "collapsed_sections": [],
      "toc_visible": true
    },
    "accelerator": "GPU"
  },
  "cells": [
    {
      "cell_type": "code",
      "metadata": {
        "id": "igMyGnjE9hEp"
      },
      "source": [
        "import csv\n",
        "import numpy as np\n",
        "import tensorflow as tf\n",
        "from sklearn.model_selection import train_test_split\n",
        "import pandas as pd\n",
        "import seaborn as sns\n",
        "import matplotlib.pyplot as plt\n",
        "from sklearn.metrics import confusion_matrix, classification_report\n",
        "\n",
        "RANDOM_SEED = 42"
      ],
      "execution_count": 26,
      "outputs": []
    },
    {
      "cell_type": "markdown",
      "metadata": {
        "id": "t2HDvhIu9hEr"
      },
      "source": [
        "# Specify each path"
      ]
    },
    {
      "cell_type": "code",
      "metadata": {
        "id": "9NvZP2Zn9hEy"
      },
      "source": [
        "dataset = 'keypoint.csv'#'model/keypoint_classifier/keypoint.csv'\n",
        "model_save_path = 'keypoint_classifier.hdf5'#'model/keypoint_classifier/keypoint_classifier.hdf5'\n",
        "tflite_save_path = 'keypoint_classifier.tflite'#'model/keypoint_classifier/keypoint_classifier.tflite'"
      ],
      "execution_count": 27,
      "outputs": []
    },
    {
      "source": [
        "# Set number of classes and sort data"
      ],
      "cell_type": "markdown",
      "metadata": {
        "id": "s5oMH7x19hEz"
      }
    },
    {
      "cell_type": "code",
      "metadata": {
        "id": "du4kodXL9hEz"
      },
      "source": [
        "NUM_CLASSES = 4\n",
        "\n",
        "pd.read_csv('keypoint.csv', header=None).sort_values(0).to_csv('keypoint.csv', index=False, header=None)"
      ],
      "execution_count": 28,
      "outputs": []
    },
    {
      "cell_type": "markdown",
      "metadata": {
        "id": "XjnL0uso9hEz"
      },
      "source": [
        "# Dataset reading"
      ]
    },
    {
      "cell_type": "code",
      "metadata": {
        "id": "QT5ZqtEz9hE0"
      },
      "source": [
        "X_dataset = np.loadtxt(dataset, delimiter=',', dtype='float32', usecols=list(range(1, (21 * 2) + 1)))"
      ],
      "execution_count": 29,
      "outputs": []
    },
    {
      "cell_type": "code",
      "metadata": {
        "id": "QmoKFsp49hE0"
      },
      "source": [
        "y_dataset = np.loadtxt(dataset, delimiter=',', dtype='int32', usecols=(0))"
      ],
      "execution_count": 30,
      "outputs": []
    },
    {
      "cell_type": "code",
      "metadata": {
        "id": "xQU7JTZ_9hE0"
      },
      "source": [
        "X_train, X_test, y_train, y_test = train_test_split(X_dataset, y_dataset, train_size=0.75, random_state=RANDOM_SEED)"
      ],
      "execution_count": 31,
      "outputs": []
    },
    {
      "cell_type": "markdown",
      "metadata": {
        "id": "mxK_lETT9hE0"
      },
      "source": [
        "# Model building"
      ]
    },
    {
      "cell_type": "code",
      "metadata": {
        "id": "vHBmUf1t9hE1"
      },
      "source": [
        "model = tf.keras.models.Sequential([\n",
        "    tf.keras.layers.Input((21 * 2, )),\n",
        "    tf.keras.layers.Dropout(0.2),\n",
        "    tf.keras.layers.Dense(20, activation='relu'),\n",
        "    tf.keras.layers.Dropout(0.4),\n",
        "    tf.keras.layers.Dense(10, activation='relu'),\n",
        "    tf.keras.layers.Dense(NUM_CLASSES, activation='softmax')\n",
        "])"
      ],
      "execution_count": 32,
      "outputs": []
    },
    {
      "cell_type": "code",
      "metadata": {
        "id": "ypqky9tc9hE1",
        "colab": {
          "base_uri": "https://localhost:8080/"
        },
        "outputId": "5db082bb-30e3-4110-bf63-a1ee777ecd46"
      },
      "source": [
        "model.summary()  # tf.keras.utils.plot_model(model, show_shapes=True)"
      ],
      "execution_count": 33,
      "outputs": [
        {
          "output_type": "stream",
          "name": "stdout",
          "text": [
            "Model: \"sequential_1\"\n_________________________________________________________________\nLayer (type)                 Output Shape              Param #   \n=================================================================\ndropout_2 (Dropout)          (None, 42)                0         \n_________________________________________________________________\ndense_3 (Dense)              (None, 20)                860       \n_________________________________________________________________\ndropout_3 (Dropout)          (None, 20)                0         \n_________________________________________________________________\ndense_4 (Dense)              (None, 10)                210       \n_________________________________________________________________\ndense_5 (Dense)              (None, 4)                 44        \n=================================================================\nTotal params: 1,114\nTrainable params: 1,114\nNon-trainable params: 0\n_________________________________________________________________\n"
          ]
        }
      ]
    },
    {
      "cell_type": "code",
      "metadata": {
        "id": "MbMjOflQ9hE1"
      },
      "source": [
        "# Model checkpoint callback\n",
        "cp_callback = tf.keras.callbacks.ModelCheckpoint(\n",
        "    model_save_path, verbose=1, save_weights_only=False)\n",
        "# Callback for early stopping\n",
        "es_callback = tf.keras.callbacks.EarlyStopping(patience=20, verbose=1)"
      ],
      "execution_count": 34,
      "outputs": []
    },
    {
      "cell_type": "code",
      "metadata": {
        "id": "c3Dac0M_9hE2"
      },
      "source": [
        "# Model compilation\n",
        "model.compile(\n",
        "    optimizer='adam',\n",
        "    loss='sparse_categorical_crossentropy',\n",
        "    metrics=['accuracy']\n",
        ")"
      ],
      "execution_count": 35,
      "outputs": []
    },
    {
      "cell_type": "markdown",
      "metadata": {
        "id": "7XI0j1Iu9hE2"
      },
      "source": [
        "# Model training"
      ]
    },
    {
      "cell_type": "code",
      "metadata": {
        "scrolled": true,
        "id": "WirBl-JE9hE3",
        "colab": {
          "base_uri": "https://localhost:8080/"
        },
        "outputId": "71b30ca2-8294-4d9d-8aa2-800d90d399de",
        "tags": [
          "outputPrepend"
        ]
      },
      "source": [
        "model.fit(\n",
        "    X_train,\n",
        "    y_train,\n",
        "    epochs=1000,\n",
        "    batch_size=128,\n",
        "    validation_data=(X_test, y_test),\n",
        "    callbacks=[cp_callback, es_callback]\n",
        ")"
      ],
      "execution_count": 36,
      "outputs": [
        {
          "output_type": "stream",
          "name": "stdout",
          "text": [
            "3/1000\n",
            "9/9 [==============================] - 0s 8ms/step - loss: 0.3113 - accuracy: 0.8763 - val_loss: 0.1032 - val_accuracy: 0.9857\n",
            "\n",
            "Epoch 00173: saving model to keypoint_classifier.hdf5\n",
            "Epoch 174/1000\n",
            "9/9 [==============================] - 0s 8ms/step - loss: 0.2982 - accuracy: 0.8718 - val_loss: 0.0990 - val_accuracy: 0.9857\n",
            "\n",
            "Epoch 00174: saving model to keypoint_classifier.hdf5\n",
            "Epoch 175/1000\n",
            "9/9 [==============================] - 0s 7ms/step - loss: 0.2930 - accuracy: 0.8911 - val_loss: 0.0936 - val_accuracy: 0.9857\n",
            "\n",
            "Epoch 00175: saving model to keypoint_classifier.hdf5\n",
            "Epoch 176/1000\n",
            "9/9 [==============================] - 0s 7ms/step - loss: 0.2696 - accuracy: 0.8973 - val_loss: 0.0905 - val_accuracy: 0.9857\n",
            "\n",
            "Epoch 00176: saving model to keypoint_classifier.hdf5\n",
            "Epoch 177/1000\n",
            "9/9 [==============================] - 0s 6ms/step - loss: 0.2897 - accuracy: 0.8826 - val_loss: 0.0939 - val_accuracy: 0.9857\n",
            "\n",
            "Epoch 00177: saving model to keypoint_classifier.hdf5\n",
            "Epoch 178/1000\n",
            "9/9 [==============================] - 0s 6ms/step - loss: 0.2944 - accuracy: 0.8841 - val_loss: 0.0901 - val_accuracy: 0.9857\n",
            "\n",
            "Epoch 00178: saving model to keypoint_classifier.hdf5\n",
            "Epoch 179/1000\n",
            "9/9 [==============================] - 0s 6ms/step - loss: 0.3016 - accuracy: 0.8714 - val_loss: 0.0858 - val_accuracy: 0.9943\n",
            "\n",
            "Epoch 00179: saving model to keypoint_classifier.hdf5\n",
            "Epoch 180/1000\n",
            "9/9 [==============================] - 0s 6ms/step - loss: 0.3306 - accuracy: 0.8478 - val_loss: 0.0877 - val_accuracy: 0.9971\n",
            "\n",
            "Epoch 00180: saving model to keypoint_classifier.hdf5\n",
            "Epoch 181/1000\n",
            "9/9 [==============================] - 0s 7ms/step - loss: 0.3226 - accuracy: 0.8581 - val_loss: 0.0915 - val_accuracy: 0.9857\n",
            "\n",
            "Epoch 00181: saving model to keypoint_classifier.hdf5\n",
            "Epoch 182/1000\n",
            "9/9 [==============================] - 0s 7ms/step - loss: 0.2970 - accuracy: 0.8852 - val_loss: 0.0888 - val_accuracy: 0.9943\n",
            "\n",
            "Epoch 00182: saving model to keypoint_classifier.hdf5\n",
            "Epoch 183/1000\n",
            "9/9 [==============================] - 0s 9ms/step - loss: 0.2962 - accuracy: 0.8987 - val_loss: 0.0897 - val_accuracy: 0.9943\n",
            "\n",
            "Epoch 00183: saving model to keypoint_classifier.hdf5\n",
            "Epoch 184/1000\n",
            "9/9 [==============================] - 0s 7ms/step - loss: 0.3111 - accuracy: 0.8752 - val_loss: 0.0892 - val_accuracy: 0.9857\n",
            "\n",
            "Epoch 00184: saving model to keypoint_classifier.hdf5\n",
            "Epoch 185/1000\n",
            "9/9 [==============================] - 0s 7ms/step - loss: 0.3207 - accuracy: 0.8663 - val_loss: 0.0899 - val_accuracy: 0.9885\n",
            "\n",
            "Epoch 00185: saving model to keypoint_classifier.hdf5\n",
            "Epoch 186/1000\n",
            "9/9 [==============================] - 0s 9ms/step - loss: 0.3023 - accuracy: 0.8748 - val_loss: 0.0938 - val_accuracy: 0.9971\n",
            "\n",
            "Epoch 00186: saving model to keypoint_classifier.hdf5\n",
            "Epoch 187/1000\n",
            "9/9 [==============================] - 0s 7ms/step - loss: 0.2760 - accuracy: 0.8935 - val_loss: 0.0907 - val_accuracy: 1.0000\n",
            "\n",
            "Epoch 00187: saving model to keypoint_classifier.hdf5\n",
            "Epoch 188/1000\n",
            "9/9 [==============================] - 0s 7ms/step - loss: 0.3232 - accuracy: 0.8733 - val_loss: 0.0855 - val_accuracy: 1.0000\n",
            "\n",
            "Epoch 00188: saving model to keypoint_classifier.hdf5\n",
            "Epoch 189/1000\n",
            "9/9 [==============================] - 0s 7ms/step - loss: 0.2862 - accuracy: 0.8783 - val_loss: 0.0830 - val_accuracy: 0.9914\n",
            "\n",
            "Epoch 00189: saving model to keypoint_classifier.hdf5\n",
            "Epoch 190/1000\n",
            "9/9 [==============================] - 0s 7ms/step - loss: 0.3087 - accuracy: 0.8786 - val_loss: 0.0848 - val_accuracy: 0.9914\n",
            "\n",
            "Epoch 00190: saving model to keypoint_classifier.hdf5\n",
            "Epoch 191/1000\n",
            "9/9 [==============================] - 0s 14ms/step - loss: 0.2701 - accuracy: 0.8887 - val_loss: 0.0838 - val_accuracy: 0.9914\n",
            "\n",
            "Epoch 00191: saving model to keypoint_classifier.hdf5\n",
            "Epoch 192/1000\n",
            "9/9 [==============================] - 0s 24ms/step - loss: 0.3149 - accuracy: 0.8868 - val_loss: 0.0823 - val_accuracy: 0.9943\n",
            "\n",
            "Epoch 00192: saving model to keypoint_classifier.hdf5\n",
            "Epoch 193/1000\n",
            "9/9 [==============================] - 0s 19ms/step - loss: 0.2880 - accuracy: 0.8798 - val_loss: 0.0823 - val_accuracy: 1.0000\n",
            "\n",
            "Epoch 00193: saving model to keypoint_classifier.hdf5\n",
            "Epoch 194/1000\n",
            "9/9 [==============================] - 0s 16ms/step - loss: 0.2772 - accuracy: 0.8902 - val_loss: 0.0850 - val_accuracy: 1.0000\n",
            "\n",
            "Epoch 00194: saving model to keypoint_classifier.hdf5\n",
            "Epoch 195/1000\n",
            "9/9 [==============================] - 0s 13ms/step - loss: 0.3006 - accuracy: 0.8784 - val_loss: 0.0884 - val_accuracy: 0.9914\n",
            "\n",
            "Epoch 00195: saving model to keypoint_classifier.hdf5\n",
            "Epoch 196/1000\n",
            "9/9 [==============================] - 0s 14ms/step - loss: 0.3078 - accuracy: 0.8847 - val_loss: 0.0911 - val_accuracy: 0.9857\n",
            "\n",
            "Epoch 00196: saving model to keypoint_classifier.hdf5\n",
            "Epoch 197/1000\n",
            "9/9 [==============================] - 0s 14ms/step - loss: 0.2774 - accuracy: 0.8943 - val_loss: 0.0864 - val_accuracy: 0.9914\n",
            "\n",
            "Epoch 00197: saving model to keypoint_classifier.hdf5\n",
            "Epoch 198/1000\n",
            "9/9 [==============================] - 0s 11ms/step - loss: 0.2795 - accuracy: 0.8824 - val_loss: 0.0837 - val_accuracy: 0.9914\n",
            "\n",
            "Epoch 00198: saving model to keypoint_classifier.hdf5\n",
            "Epoch 199/1000\n",
            "9/9 [==============================] - 0s 11ms/step - loss: 0.2882 - accuracy: 0.8953 - val_loss: 0.0840 - val_accuracy: 0.9914\n",
            "\n",
            "Epoch 00199: saving model to keypoint_classifier.hdf5\n",
            "Epoch 200/1000\n",
            "9/9 [==============================] - 0s 11ms/step - loss: 0.2631 - accuracy: 0.9085 - val_loss: 0.0804 - val_accuracy: 0.9914\n",
            "\n",
            "Epoch 00200: saving model to keypoint_classifier.hdf5\n",
            "Epoch 201/1000\n",
            "9/9 [==============================] - 0s 12ms/step - loss: 0.2814 - accuracy: 0.8796 - val_loss: 0.0765 - val_accuracy: 0.9943\n",
            "\n",
            "Epoch 00201: saving model to keypoint_classifier.hdf5\n",
            "Epoch 202/1000\n",
            "9/9 [==============================] - 0s 15ms/step - loss: 0.2872 - accuracy: 0.8899 - val_loss: 0.0745 - val_accuracy: 1.0000\n",
            "\n",
            "Epoch 00202: saving model to keypoint_classifier.hdf5\n",
            "Epoch 203/1000\n",
            "9/9 [==============================] - 0s 17ms/step - loss: 0.2792 - accuracy: 0.8820 - val_loss: 0.0763 - val_accuracy: 1.0000\n",
            "\n",
            "Epoch 00203: saving model to keypoint_classifier.hdf5\n",
            "Epoch 204/1000\n",
            "9/9 [==============================] - 0s 13ms/step - loss: 0.2663 - accuracy: 0.9106 - val_loss: 0.0764 - val_accuracy: 0.9943\n",
            "\n",
            "Epoch 00204: saving model to keypoint_classifier.hdf5\n",
            "Epoch 205/1000\n",
            "9/9 [==============================] - 0s 14ms/step - loss: 0.2714 - accuracy: 0.8835 - val_loss: 0.0765 - val_accuracy: 0.9943\n",
            "\n",
            "Epoch 00205: saving model to keypoint_classifier.hdf5\n",
            "Epoch 206/1000\n",
            "9/9 [==============================] - 0s 15ms/step - loss: 0.2769 - accuracy: 0.8948 - val_loss: 0.0790 - val_accuracy: 1.0000\n",
            "\n",
            "Epoch 00206: saving model to keypoint_classifier.hdf5\n",
            "Epoch 207/1000\n",
            "9/9 [==============================] - 0s 23ms/step - loss: 0.3062 - accuracy: 0.8731 - val_loss: 0.0836 - val_accuracy: 1.0000\n",
            "\n",
            "Epoch 00207: saving model to keypoint_classifier.hdf5\n",
            "Epoch 208/1000\n",
            "9/9 [==============================] - 0s 17ms/step - loss: 0.2857 - accuracy: 0.8751 - val_loss: 0.0832 - val_accuracy: 1.0000\n",
            "\n",
            "Epoch 00208: saving model to keypoint_classifier.hdf5\n",
            "Epoch 209/1000\n",
            "9/9 [==============================] - 0s 17ms/step - loss: 0.2627 - accuracy: 0.8903 - val_loss: 0.0817 - val_accuracy: 1.0000\n",
            "\n",
            "Epoch 00209: saving model to keypoint_classifier.hdf5\n",
            "Epoch 210/1000\n",
            "9/9 [==============================] - 0s 12ms/step - loss: 0.3143 - accuracy: 0.8812 - val_loss: 0.0824 - val_accuracy: 1.0000\n",
            "\n",
            "Epoch 00210: saving model to keypoint_classifier.hdf5\n",
            "Epoch 211/1000\n",
            "9/9 [==============================] - 0s 11ms/step - loss: 0.2863 - accuracy: 0.8828 - val_loss: 0.0813 - val_accuracy: 0.9943\n",
            "\n",
            "Epoch 00211: saving model to keypoint_classifier.hdf5\n",
            "Epoch 212/1000\n",
            "9/9 [==============================] - 0s 12ms/step - loss: 0.2811 - accuracy: 0.8932 - val_loss: 0.0779 - val_accuracy: 0.9943\n",
            "\n",
            "Epoch 00212: saving model to keypoint_classifier.hdf5\n",
            "Epoch 213/1000\n",
            "9/9 [==============================] - 0s 13ms/step - loss: 0.2633 - accuracy: 0.8966 - val_loss: 0.0715 - val_accuracy: 1.0000\n",
            "\n",
            "Epoch 00213: saving model to keypoint_classifier.hdf5\n",
            "Epoch 214/1000\n",
            "9/9 [==============================] - 0s 11ms/step - loss: 0.3037 - accuracy: 0.8792 - val_loss: 0.0716 - val_accuracy: 0.9943\n",
            "\n",
            "Epoch 00214: saving model to keypoint_classifier.hdf5\n",
            "Epoch 215/1000\n",
            "9/9 [==============================] - 0s 10ms/step - loss: 0.2723 - accuracy: 0.8973 - val_loss: 0.0730 - val_accuracy: 0.9943\n",
            "\n",
            "Epoch 00215: saving model to keypoint_classifier.hdf5\n",
            "Epoch 216/1000\n",
            "9/9 [==============================] - 0s 13ms/step - loss: 0.2848 - accuracy: 0.8862 - val_loss: 0.0787 - val_accuracy: 0.9914\n",
            "\n",
            "Epoch 00216: saving model to keypoint_classifier.hdf5\n",
            "Epoch 217/1000\n",
            "9/9 [==============================] - 0s 12ms/step - loss: 0.2580 - accuracy: 0.9007 - val_loss: 0.0782 - val_accuracy: 0.9914\n",
            "\n",
            "Epoch 00217: saving model to keypoint_classifier.hdf5\n",
            "Epoch 218/1000\n",
            "9/9 [==============================] - 0s 13ms/step - loss: 0.2928 - accuracy: 0.8751 - val_loss: 0.0788 - val_accuracy: 0.9943\n",
            "\n",
            "Epoch 00218: saving model to keypoint_classifier.hdf5\n",
            "Epoch 219/1000\n",
            "9/9 [==============================] - 0s 12ms/step - loss: 0.3092 - accuracy: 0.8765 - val_loss: 0.0834 - val_accuracy: 0.9857\n",
            "\n",
            "Epoch 00219: saving model to keypoint_classifier.hdf5\n",
            "Epoch 220/1000\n",
            "9/9 [==============================] - 0s 12ms/step - loss: 0.3095 - accuracy: 0.8868 - val_loss: 0.0778 - val_accuracy: 0.9857\n",
            "\n",
            "Epoch 00220: saving model to keypoint_classifier.hdf5\n",
            "Epoch 221/1000\n",
            "9/9 [==============================] - 0s 11ms/step - loss: 0.3124 - accuracy: 0.8898 - val_loss: 0.0685 - val_accuracy: 1.0000\n",
            "\n",
            "Epoch 00221: saving model to keypoint_classifier.hdf5\n",
            "Epoch 222/1000\n",
            "9/9 [==============================] - 0s 11ms/step - loss: 0.2719 - accuracy: 0.8934 - val_loss: 0.0656 - val_accuracy: 1.0000\n",
            "\n",
            "Epoch 00222: saving model to keypoint_classifier.hdf5\n",
            "Epoch 223/1000\n",
            "9/9 [==============================] - 0s 15ms/step - loss: 0.3136 - accuracy: 0.8668 - val_loss: 0.0673 - val_accuracy: 0.9943\n",
            "\n",
            "Epoch 00223: saving model to keypoint_classifier.hdf5\n",
            "Epoch 224/1000\n",
            "9/9 [==============================] - 0s 20ms/step - loss: 0.2715 - accuracy: 0.8933 - val_loss: 0.0706 - val_accuracy: 0.9943\n",
            "\n",
            "Epoch 00224: saving model to keypoint_classifier.hdf5\n",
            "Epoch 225/1000\n",
            "9/9 [==============================] - 0s 13ms/step - loss: 0.3182 - accuracy: 0.8822 - val_loss: 0.0745 - val_accuracy: 1.0000\n",
            "\n",
            "Epoch 00225: saving model to keypoint_classifier.hdf5\n",
            "Epoch 226/1000\n",
            "9/9 [==============================] - 0s 14ms/step - loss: 0.2406 - accuracy: 0.8989 - val_loss: 0.0771 - val_accuracy: 1.0000\n",
            "\n",
            "Epoch 00226: saving model to keypoint_classifier.hdf5\n",
            "Epoch 227/1000\n",
            "9/9 [==============================] - 0s 16ms/step - loss: 0.2563 - accuracy: 0.9007 - val_loss: 0.0729 - val_accuracy: 1.0000\n",
            "\n",
            "Epoch 00227: saving model to keypoint_classifier.hdf5\n",
            "Epoch 228/1000\n",
            "9/9 [==============================] - 0s 16ms/step - loss: 0.2905 - accuracy: 0.8970 - val_loss: 0.0669 - val_accuracy: 1.0000\n",
            "\n",
            "Epoch 00228: saving model to keypoint_classifier.hdf5\n",
            "Epoch 229/1000\n",
            "9/9 [==============================] - 0s 13ms/step - loss: 0.2624 - accuracy: 0.8890 - val_loss: 0.0714 - val_accuracy: 0.9943\n",
            "\n",
            "Epoch 00229: saving model to keypoint_classifier.hdf5\n",
            "Epoch 230/1000\n",
            "9/9 [==============================] - 0s 12ms/step - loss: 0.3054 - accuracy: 0.8798 - val_loss: 0.0739 - val_accuracy: 1.0000\n",
            "\n",
            "Epoch 00230: saving model to keypoint_classifier.hdf5\n",
            "Epoch 231/1000\n",
            "9/9 [==============================] - 0s 14ms/step - loss: 0.2744 - accuracy: 0.8854 - val_loss: 0.0757 - val_accuracy: 1.0000\n",
            "\n",
            "Epoch 00231: saving model to keypoint_classifier.hdf5\n",
            "Epoch 232/1000\n",
            "9/9 [==============================] - 0s 14ms/step - loss: 0.3008 - accuracy: 0.8806 - val_loss: 0.0743 - val_accuracy: 0.9971\n",
            "\n",
            "Epoch 00232: saving model to keypoint_classifier.hdf5\n",
            "Epoch 233/1000\n",
            "9/9 [==============================] - 0s 12ms/step - loss: 0.2505 - accuracy: 0.8936 - val_loss: 0.0708 - val_accuracy: 0.9971\n",
            "\n",
            "Epoch 00233: saving model to keypoint_classifier.hdf5\n",
            "Epoch 234/1000\n",
            "9/9 [==============================] - 0s 12ms/step - loss: 0.2543 - accuracy: 0.9056 - val_loss: 0.0692 - val_accuracy: 1.0000\n",
            "\n",
            "Epoch 00234: saving model to keypoint_classifier.hdf5\n",
            "Epoch 235/1000\n",
            "9/9 [==============================] - 0s 12ms/step - loss: 0.2736 - accuracy: 0.8892 - val_loss: 0.0671 - val_accuracy: 1.0000\n",
            "\n",
            "Epoch 00235: saving model to keypoint_classifier.hdf5\n",
            "Epoch 236/1000\n",
            "9/9 [==============================] - 0s 12ms/step - loss: 0.2653 - accuracy: 0.8989 - val_loss: 0.0672 - val_accuracy: 0.9971\n",
            "\n",
            "Epoch 00236: saving model to keypoint_classifier.hdf5\n",
            "Epoch 237/1000\n",
            "9/9 [==============================] - 0s 13ms/step - loss: 0.2686 - accuracy: 0.8983 - val_loss: 0.0641 - val_accuracy: 1.0000\n",
            "\n",
            "Epoch 00237: saving model to keypoint_classifier.hdf5\n",
            "Epoch 238/1000\n",
            "9/9 [==============================] - 0s 12ms/step - loss: 0.2438 - accuracy: 0.9101 - val_loss: 0.0637 - val_accuracy: 1.0000\n",
            "\n",
            "Epoch 00238: saving model to keypoint_classifier.hdf5\n",
            "Epoch 239/1000\n",
            "9/9 [==============================] - 0s 12ms/step - loss: 0.2758 - accuracy: 0.8940 - val_loss: 0.0659 - val_accuracy: 1.0000\n",
            "\n",
            "Epoch 00239: saving model to keypoint_classifier.hdf5\n",
            "Epoch 240/1000\n",
            "9/9 [==============================] - 0s 13ms/step - loss: 0.2379 - accuracy: 0.9080 - val_loss: 0.0662 - val_accuracy: 0.9971\n",
            "\n",
            "Epoch 00240: saving model to keypoint_classifier.hdf5\n",
            "Epoch 241/1000\n",
            "9/9 [==============================] - 0s 11ms/step - loss: 0.2531 - accuracy: 0.9137 - val_loss: 0.0643 - val_accuracy: 0.9971\n",
            "\n",
            "Epoch 00241: saving model to keypoint_classifier.hdf5\n",
            "Epoch 242/1000\n",
            "9/9 [==============================] - 0s 12ms/step - loss: 0.2548 - accuracy: 0.8975 - val_loss: 0.0592 - val_accuracy: 1.0000\n",
            "\n",
            "Epoch 00242: saving model to keypoint_classifier.hdf5\n",
            "Epoch 243/1000\n",
            "9/9 [==============================] - 0s 11ms/step - loss: 0.2530 - accuracy: 0.9131 - val_loss: 0.0601 - val_accuracy: 0.9943\n",
            "\n",
            "Epoch 00243: saving model to keypoint_classifier.hdf5\n",
            "Epoch 244/1000\n",
            "9/9 [==============================] - 0s 11ms/step - loss: 0.2658 - accuracy: 0.8983 - val_loss: 0.0655 - val_accuracy: 1.0000\n",
            "\n",
            "Epoch 00244: saving model to keypoint_classifier.hdf5\n",
            "Epoch 245/1000\n",
            "9/9 [==============================] - 0s 13ms/step - loss: 0.2438 - accuracy: 0.9094 - val_loss: 0.0657 - val_accuracy: 1.0000\n",
            "\n",
            "Epoch 00245: saving model to keypoint_classifier.hdf5\n",
            "Epoch 246/1000\n",
            "9/9 [==============================] - 0s 10ms/step - loss: 0.2685 - accuracy: 0.9031 - val_loss: 0.0622 - val_accuracy: 0.9943\n",
            "\n",
            "Epoch 00246: saving model to keypoint_classifier.hdf5\n",
            "Epoch 247/1000\n",
            "9/9 [==============================] - 0s 10ms/step - loss: 0.2351 - accuracy: 0.9093 - val_loss: 0.0597 - val_accuracy: 0.9943\n",
            "\n",
            "Epoch 00247: saving model to keypoint_classifier.hdf5\n",
            "Epoch 248/1000\n",
            "9/9 [==============================] - 0s 10ms/step - loss: 0.2820 - accuracy: 0.8858 - val_loss: 0.0615 - val_accuracy: 0.9914\n",
            "\n",
            "Epoch 00248: saving model to keypoint_classifier.hdf5\n",
            "Epoch 249/1000\n",
            "9/9 [==============================] - 0s 11ms/step - loss: 0.2724 - accuracy: 0.8999 - val_loss: 0.0601 - val_accuracy: 1.0000\n",
            "\n",
            "Epoch 00249: saving model to keypoint_classifier.hdf5\n",
            "Epoch 250/1000\n",
            "9/9 [==============================] - 0s 14ms/step - loss: 0.2717 - accuracy: 0.8827 - val_loss: 0.0618 - val_accuracy: 1.0000\n",
            "\n",
            "Epoch 00250: saving model to keypoint_classifier.hdf5\n",
            "Epoch 251/1000\n",
            "9/9 [==============================] - 0s 13ms/step - loss: 0.2745 - accuracy: 0.8931 - val_loss: 0.0630 - val_accuracy: 0.9943\n",
            "\n",
            "Epoch 00251: saving model to keypoint_classifier.hdf5\n",
            "Epoch 252/1000\n",
            "9/9 [==============================] - 0s 12ms/step - loss: 0.2605 - accuracy: 0.8865 - val_loss: 0.0589 - val_accuracy: 0.9971\n",
            "\n",
            "Epoch 00252: saving model to keypoint_classifier.hdf5\n",
            "Epoch 253/1000\n",
            "9/9 [==============================] - 0s 12ms/step - loss: 0.2723 - accuracy: 0.8901 - val_loss: 0.0558 - val_accuracy: 0.9971\n",
            "\n",
            "Epoch 00253: saving model to keypoint_classifier.hdf5\n",
            "Epoch 254/1000\n",
            "9/9 [==============================] - 0s 12ms/step - loss: 0.2522 - accuracy: 0.9026 - val_loss: 0.0560 - val_accuracy: 1.0000\n",
            "\n",
            "Epoch 00254: saving model to keypoint_classifier.hdf5\n",
            "Epoch 255/1000\n",
            "9/9 [==============================] - 0s 12ms/step - loss: 0.2687 - accuracy: 0.8976 - val_loss: 0.0599 - val_accuracy: 1.0000\n",
            "\n",
            "Epoch 00255: saving model to keypoint_classifier.hdf5\n",
            "Epoch 256/1000\n",
            "9/9 [==============================] - 0s 11ms/step - loss: 0.2794 - accuracy: 0.8952 - val_loss: 0.0590 - val_accuracy: 1.0000\n",
            "\n",
            "Epoch 00256: saving model to keypoint_classifier.hdf5\n",
            "Epoch 257/1000\n",
            "9/9 [==============================] - 0s 11ms/step - loss: 0.2687 - accuracy: 0.8991 - val_loss: 0.0593 - val_accuracy: 1.0000\n",
            "\n",
            "Epoch 00257: saving model to keypoint_classifier.hdf5\n",
            "Epoch 258/1000\n",
            "9/9 [==============================] - 0s 11ms/step - loss: 0.2690 - accuracy: 0.8959 - val_loss: 0.0620 - val_accuracy: 1.0000\n",
            "\n",
            "Epoch 00258: saving model to keypoint_classifier.hdf5\n",
            "Epoch 259/1000\n",
            "9/9 [==============================] - 0s 12ms/step - loss: 0.2310 - accuracy: 0.9274 - val_loss: 0.0616 - val_accuracy: 1.0000\n",
            "\n",
            "Epoch 00259: saving model to keypoint_classifier.hdf5\n",
            "Epoch 260/1000\n",
            "9/9 [==============================] - 0s 11ms/step - loss: 0.3125 - accuracy: 0.8643 - val_loss: 0.0634 - val_accuracy: 1.0000\n",
            "\n",
            "Epoch 00260: saving model to keypoint_classifier.hdf5\n",
            "Epoch 261/1000\n",
            "9/9 [==============================] - 0s 11ms/step - loss: 0.2836 - accuracy: 0.8844 - val_loss: 0.0664 - val_accuracy: 0.9971\n",
            "\n",
            "Epoch 00261: saving model to keypoint_classifier.hdf5\n",
            "Epoch 262/1000\n",
            "9/9 [==============================] - 0s 10ms/step - loss: 0.2494 - accuracy: 0.8904 - val_loss: 0.0663 - val_accuracy: 0.9943\n",
            "\n",
            "Epoch 00262: saving model to keypoint_classifier.hdf5\n",
            "Epoch 263/1000\n",
            "9/9 [==============================] - 0s 11ms/step - loss: 0.2447 - accuracy: 0.9080 - val_loss: 0.0645 - val_accuracy: 0.9943\n",
            "\n",
            "Epoch 00263: saving model to keypoint_classifier.hdf5\n",
            "Epoch 264/1000\n",
            "9/9 [==============================] - 0s 11ms/step - loss: 0.2488 - accuracy: 0.9026 - val_loss: 0.0663 - val_accuracy: 0.9943\n",
            "\n",
            "Epoch 00264: saving model to keypoint_classifier.hdf5\n",
            "Epoch 265/1000\n",
            "9/9 [==============================] - 0s 11ms/step - loss: 0.2723 - accuracy: 0.8968 - val_loss: 0.0660 - val_accuracy: 1.0000\n",
            "\n",
            "Epoch 00265: saving model to keypoint_classifier.hdf5\n",
            "Epoch 266/1000\n",
            "9/9 [==============================] - 0s 11ms/step - loss: 0.3014 - accuracy: 0.8781 - val_loss: 0.0667 - val_accuracy: 0.9971\n",
            "\n",
            "Epoch 00266: saving model to keypoint_classifier.hdf5\n",
            "Epoch 267/1000\n",
            "9/9 [==============================] - 0s 12ms/step - loss: 0.2360 - accuracy: 0.8981 - val_loss: 0.0646 - val_accuracy: 0.9971\n",
            "\n",
            "Epoch 00267: saving model to keypoint_classifier.hdf5\n",
            "Epoch 268/1000\n",
            "9/9 [==============================] - 0s 11ms/step - loss: 0.2791 - accuracy: 0.8890 - val_loss: 0.0626 - val_accuracy: 1.0000\n",
            "\n",
            "Epoch 00268: saving model to keypoint_classifier.hdf5\n",
            "Epoch 269/1000\n",
            "9/9 [==============================] - 0s 12ms/step - loss: 0.2649 - accuracy: 0.9051 - val_loss: 0.0638 - val_accuracy: 0.9971\n",
            "\n",
            "Epoch 00269: saving model to keypoint_classifier.hdf5\n",
            "Epoch 270/1000\n",
            "9/9 [==============================] - 0s 11ms/step - loss: 0.2673 - accuracy: 0.9036 - val_loss: 0.0643 - val_accuracy: 0.9971\n",
            "\n",
            "Epoch 00270: saving model to keypoint_classifier.hdf5\n",
            "Epoch 271/1000\n",
            "9/9 [==============================] - 0s 12ms/step - loss: 0.3011 - accuracy: 0.8803 - val_loss: 0.0639 - val_accuracy: 0.9971\n",
            "\n",
            "Epoch 00271: saving model to keypoint_classifier.hdf5\n",
            "Epoch 272/1000\n",
            "9/9 [==============================] - 0s 11ms/step - loss: 0.2545 - accuracy: 0.9068 - val_loss: 0.0629 - val_accuracy: 0.9971\n",
            "\n",
            "Epoch 00272: saving model to keypoint_classifier.hdf5\n",
            "Epoch 273/1000\n",
            "9/9 [==============================] - 0s 11ms/step - loss: 0.2291 - accuracy: 0.9037 - val_loss: 0.0599 - val_accuracy: 0.9971\n",
            "\n",
            "Epoch 00273: saving model to keypoint_classifier.hdf5\n",
            "Epoch 00273: early stopping\n"
          ]
        },
        {
          "output_type": "execute_result",
          "data": {
            "text/plain": [
              "<tensorflow.python.keras.callbacks.History at 0x7fbac83101f0>"
            ]
          },
          "metadata": {},
          "execution_count": 36
        }
      ]
    },
    {
      "cell_type": "code",
      "metadata": {
        "id": "pxvb2Y299hE3",
        "colab": {
          "base_uri": "https://localhost:8080/"
        },
        "outputId": "59eb3185-2e37-4b9e-bc9d-ab1b8ac29b7f"
      },
      "source": [
        "# Model evaluation\n",
        "val_loss, val_acc = model.evaluate(X_test, y_test, batch_size=128)"
      ],
      "execution_count": 37,
      "outputs": [
        {
          "output_type": "stream",
          "name": "stdout",
          "text": [
            "3/3 [==============================] - 0s 4ms/step - loss: 0.0599 - accuracy: 0.9971\n"
          ]
        }
      ]
    },
    {
      "cell_type": "code",
      "metadata": {
        "id": "RBkmDeUW9hE4"
      },
      "source": [
        "# Loading the saved model\n",
        "model = tf.keras.models.load_model(model_save_path)"
      ],
      "execution_count": 38,
      "outputs": []
    },
    {
      "cell_type": "code",
      "metadata": {
        "id": "tFz9Tb0I9hE4",
        "colab": {
          "base_uri": "https://localhost:8080/"
        },
        "outputId": "1c3b3528-54ae-4ee2-ab04-77429211cbef"
      },
      "source": [
        "# Inference test\n",
        "predict_result = model.predict(np.array([X_test[0]]))\n",
        "print(np.squeeze(predict_result))\n",
        "print(np.argmax(np.squeeze(predict_result)))"
      ],
      "execution_count": 39,
      "outputs": [
        {
          "output_type": "stream",
          "name": "stdout",
          "text": [
            "[5.3976859e-05 3.1559695e-05 1.2801278e-01 8.7190169e-01]\n3\n"
          ]
        }
      ]
    },
    {
      "cell_type": "markdown",
      "metadata": {
        "id": "S3U4yNWx9hE4"
      },
      "source": [
        "# Confusion matrix"
      ]
    },
    {
      "cell_type": "code",
      "metadata": {
        "id": "AP1V6SCk9hE5",
        "colab": {
          "base_uri": "https://localhost:8080/",
          "height": 582
        },
        "outputId": "08e41a80-7a4a-4619-8125-ecc371368d19"
      },
      "source": [
        "def print_confusion_matrix(y_true, y_pred, report=True):\n",
        "    labels = sorted(list(set(y_true)))\n",
        "    cmx_data = confusion_matrix(y_true, y_pred, labels=labels)\n",
        "    \n",
        "    df_cmx = pd.DataFrame(cmx_data, index=labels, columns=labels)\n",
        " \n",
        "    fig, ax = plt.subplots(figsize=(7, 6))\n",
        "    sns.heatmap(df_cmx, annot=True, fmt='g' ,square=False)\n",
        "    ax.set_ylim(len(set(y_true)), 0)\n",
        "    plt.show()\n",
        "    \n",
        "    if report:\n",
        "        print('Classification Report')\n",
        "        print(classification_report(y_test, y_pred))\n",
        "\n",
        "Y_pred = model.predict(X_test)\n",
        "y_pred = np.argmax(Y_pred, axis=1)\n",
        "\n",
        "print_confusion_matrix(y_test, y_pred)"
      ],
      "execution_count": 40,
      "outputs": [
        {
          "output_type": "display_data",
          "data": {
            "text/plain": "<Figure size 504x432 with 2 Axes>",
            "image/svg+xml": "<?xml version=\"1.0\" encoding=\"utf-8\" standalone=\"no\"?>\n<!DOCTYPE svg PUBLIC \"-//W3C//DTD SVG 1.1//EN\"\n  \"http://www.w3.org/Graphics/SVG/1.1/DTD/svg11.dtd\">\n<svg height=\"357.238125pt\" version=\"1.1\" viewBox=\"0 0 399.121125 357.238125\" width=\"399.121125pt\" xmlns=\"http://www.w3.org/2000/svg\" xmlns:xlink=\"http://www.w3.org/1999/xlink\">\n <metadata>\n  <rdf:RDF xmlns:cc=\"http://creativecommons.org/ns#\" xmlns:dc=\"http://purl.org/dc/elements/1.1/\" xmlns:rdf=\"http://www.w3.org/1999/02/22-rdf-syntax-ns#\">\n   <cc:Work>\n    <dc:type rdf:resource=\"http://purl.org/dc/dcmitype/StillImage\"/>\n    <dc:date>2021-04-22T17:10:25.246242</dc:date>\n    <dc:format>image/svg+xml</dc:format>\n    <dc:creator>\n     <cc:Agent>\n      <dc:title>Matplotlib v3.4.1, https://matplotlib.org/</dc:title>\n     </cc:Agent>\n    </dc:creator>\n   </cc:Work>\n  </rdf:RDF>\n </metadata>\n <defs>\n  <style type=\"text/css\">*{stroke-linecap:butt;stroke-linejoin:round;}</style>\n </defs>\n <g id=\"figure_1\">\n  <g id=\"patch_1\">\n   <path d=\"M 0 357.238125 \nL 399.121125 357.238125 \nL 399.121125 0 \nL 0 0 \nz\n\" style=\"fill:none;\"/>\n  </g>\n  <g id=\"axes_1\">\n   <g id=\"patch_2\">\n    <path d=\"M 23.878125 333.36 \nL 336.358125 333.36 \nL 336.358125 7.2 \nL 23.878125 7.2 \nz\n\" style=\"fill:#ffffff;\"/>\n   </g>\n   <g id=\"QuadMesh_1\">\n    <path clip-path=\"url(#pf3e7970ce1)\" d=\"M 23.878125 7.2 \nL 101.998125 7.2 \nL 101.998125 88.74 \nL 23.878125 88.74 \nL 23.878125 7.2 \n\" style=\"fill:#fae8d8;\"/>\n    <path clip-path=\"url(#pf3e7970ce1)\" d=\"M 101.998125 7.2 \nL 180.118125 7.2 \nL 180.118125 88.74 \nL 101.998125 88.74 \nL 101.998125 7.2 \n\" style=\"fill:#03051a;\"/>\n    <path clip-path=\"url(#pf3e7970ce1)\" d=\"M 180.118125 7.2 \nL 258.238125 7.2 \nL 258.238125 88.74 \nL 180.118125 88.74 \nL 180.118125 7.2 \n\" style=\"fill:#03051a;\"/>\n    <path clip-path=\"url(#pf3e7970ce1)\" d=\"M 258.238125 7.2 \nL 336.358125 7.2 \nL 336.358125 88.74 \nL 258.238125 88.74 \nL 258.238125 7.2 \n\" style=\"fill:#03051a;\"/>\n    <path clip-path=\"url(#pf3e7970ce1)\" d=\"M 23.878125 88.74 \nL 101.998125 88.74 \nL 101.998125 170.28 \nL 23.878125 170.28 \nL 23.878125 88.74 \n\" style=\"fill:#03051a;\"/>\n    <path clip-path=\"url(#pf3e7970ce1)\" d=\"M 101.998125 88.74 \nL 180.118125 88.74 \nL 180.118125 170.28 \nL 101.998125 170.28 \nL 101.998125 88.74 \n\" style=\"fill:#faebdd;\"/>\n    <path clip-path=\"url(#pf3e7970ce1)\" d=\"M 180.118125 88.74 \nL 258.238125 88.74 \nL 258.238125 170.28 \nL 180.118125 170.28 \nL 180.118125 88.74 \n\" style=\"fill:#03051a;\"/>\n    <path clip-path=\"url(#pf3e7970ce1)\" d=\"M 258.238125 88.74 \nL 336.358125 88.74 \nL 336.358125 170.28 \nL 258.238125 170.28 \nL 258.238125 88.74 \n\" style=\"fill:#03051a;\"/>\n    <path clip-path=\"url(#pf3e7970ce1)\" d=\"M 23.878125 170.28 \nL 101.998125 170.28 \nL 101.998125 251.82 \nL 23.878125 251.82 \nL 23.878125 170.28 \n\" style=\"fill:#03051a;\"/>\n    <path clip-path=\"url(#pf3e7970ce1)\" d=\"M 101.998125 170.28 \nL 180.118125 170.28 \nL 180.118125 251.82 \nL 101.998125 251.82 \nL 101.998125 170.28 \n\" style=\"fill:#03051a;\"/>\n    <path clip-path=\"url(#pf3e7970ce1)\" d=\"M 180.118125 170.28 \nL 258.238125 170.28 \nL 258.238125 251.82 \nL 180.118125 251.82 \nL 180.118125 170.28 \n\" style=\"fill:#f58f66;\"/>\n    <path clip-path=\"url(#pf3e7970ce1)\" d=\"M 258.238125 170.28 \nL 336.358125 170.28 \nL 336.358125 251.82 \nL 258.238125 251.82 \nL 258.238125 170.28 \n\" style=\"fill:#03051a;\"/>\n    <path clip-path=\"url(#pf3e7970ce1)\" d=\"M 23.878125 251.82 \nL 101.998125 251.82 \nL 101.998125 333.36 \nL 23.878125 333.36 \nL 23.878125 251.82 \n\" style=\"fill:#03051a;\"/>\n    <path clip-path=\"url(#pf3e7970ce1)\" d=\"M 101.998125 251.82 \nL 180.118125 251.82 \nL 180.118125 333.36 \nL 101.998125 333.36 \nL 101.998125 251.82 \n\" style=\"fill:#03051a;\"/>\n    <path clip-path=\"url(#pf3e7970ce1)\" d=\"M 180.118125 251.82 \nL 258.238125 251.82 \nL 258.238125 333.36 \nL 180.118125 333.36 \nL 180.118125 251.82 \n\" style=\"fill:#05061b;\"/>\n    <path clip-path=\"url(#pf3e7970ce1)\" d=\"M 258.238125 251.82 \nL 336.358125 251.82 \nL 336.358125 333.36 \nL 258.238125 333.36 \nL 258.238125 251.82 \n\" style=\"fill:#f58a61;\"/>\n   </g>\n   <g id=\"matplotlib.axis_1\">\n    <g id=\"xtick_1\">\n     <g id=\"line2d_1\">\n      <defs>\n       <path d=\"M 0 0 \nL 0 3.5 \n\" id=\"m9ebe8285c7\" style=\"stroke:#000000;stroke-width:0.8;\"/>\n      </defs>\n      <g>\n       <use style=\"stroke:#000000;stroke-width:0.8;\" x=\"62.938125\" xlink:href=\"#m9ebe8285c7\" y=\"333.36\"/>\n      </g>\n     </g>\n     <g id=\"text_1\">\n      <!-- 0 -->\n      <g transform=\"translate(59.756875 347.958438)scale(0.1 -0.1)\">\n       <defs>\n        <path d=\"M 2034 4250 \nQ 1547 4250 1301 3770 \nQ 1056 3291 1056 2328 \nQ 1056 1369 1301 889 \nQ 1547 409 2034 409 \nQ 2525 409 2770 889 \nQ 3016 1369 3016 2328 \nQ 3016 3291 2770 3770 \nQ 2525 4250 2034 4250 \nz\nM 2034 4750 \nQ 2819 4750 3233 4129 \nQ 3647 3509 3647 2328 \nQ 3647 1150 3233 529 \nQ 2819 -91 2034 -91 \nQ 1250 -91 836 529 \nQ 422 1150 422 2328 \nQ 422 3509 836 4129 \nQ 1250 4750 2034 4750 \nz\n\" id=\"DejaVuSans-30\" transform=\"scale(0.015625)\"/>\n       </defs>\n       <use xlink:href=\"#DejaVuSans-30\"/>\n      </g>\n     </g>\n    </g>\n    <g id=\"xtick_2\">\n     <g id=\"line2d_2\">\n      <g>\n       <use style=\"stroke:#000000;stroke-width:0.8;\" x=\"141.058125\" xlink:href=\"#m9ebe8285c7\" y=\"333.36\"/>\n      </g>\n     </g>\n     <g id=\"text_2\">\n      <!-- 1 -->\n      <g transform=\"translate(137.876875 347.958438)scale(0.1 -0.1)\">\n       <defs>\n        <path d=\"M 794 531 \nL 1825 531 \nL 1825 4091 \nL 703 3866 \nL 703 4441 \nL 1819 4666 \nL 2450 4666 \nL 2450 531 \nL 3481 531 \nL 3481 0 \nL 794 0 \nL 794 531 \nz\n\" id=\"DejaVuSans-31\" transform=\"scale(0.015625)\"/>\n       </defs>\n       <use xlink:href=\"#DejaVuSans-31\"/>\n      </g>\n     </g>\n    </g>\n    <g id=\"xtick_3\">\n     <g id=\"line2d_3\">\n      <g>\n       <use style=\"stroke:#000000;stroke-width:0.8;\" x=\"219.178125\" xlink:href=\"#m9ebe8285c7\" y=\"333.36\"/>\n      </g>\n     </g>\n     <g id=\"text_3\">\n      <!-- 2 -->\n      <g transform=\"translate(215.996875 347.958438)scale(0.1 -0.1)\">\n       <defs>\n        <path d=\"M 1228 531 \nL 3431 531 \nL 3431 0 \nL 469 0 \nL 469 531 \nQ 828 903 1448 1529 \nQ 2069 2156 2228 2338 \nQ 2531 2678 2651 2914 \nQ 2772 3150 2772 3378 \nQ 2772 3750 2511 3984 \nQ 2250 4219 1831 4219 \nQ 1534 4219 1204 4116 \nQ 875 4013 500 3803 \nL 500 4441 \nQ 881 4594 1212 4672 \nQ 1544 4750 1819 4750 \nQ 2544 4750 2975 4387 \nQ 3406 4025 3406 3419 \nQ 3406 3131 3298 2873 \nQ 3191 2616 2906 2266 \nQ 2828 2175 2409 1742 \nQ 1991 1309 1228 531 \nz\n\" id=\"DejaVuSans-32\" transform=\"scale(0.015625)\"/>\n       </defs>\n       <use xlink:href=\"#DejaVuSans-32\"/>\n      </g>\n     </g>\n    </g>\n    <g id=\"xtick_4\">\n     <g id=\"line2d_4\">\n      <g>\n       <use style=\"stroke:#000000;stroke-width:0.8;\" x=\"297.298125\" xlink:href=\"#m9ebe8285c7\" y=\"333.36\"/>\n      </g>\n     </g>\n     <g id=\"text_4\">\n      <!-- 3 -->\n      <g transform=\"translate(294.116875 347.958438)scale(0.1 -0.1)\">\n       <defs>\n        <path d=\"M 2597 2516 \nQ 3050 2419 3304 2112 \nQ 3559 1806 3559 1356 \nQ 3559 666 3084 287 \nQ 2609 -91 1734 -91 \nQ 1441 -91 1130 -33 \nQ 819 25 488 141 \nL 488 750 \nQ 750 597 1062 519 \nQ 1375 441 1716 441 \nQ 2309 441 2620 675 \nQ 2931 909 2931 1356 \nQ 2931 1769 2642 2001 \nQ 2353 2234 1838 2234 \nL 1294 2234 \nL 1294 2753 \nL 1863 2753 \nQ 2328 2753 2575 2939 \nQ 2822 3125 2822 3475 \nQ 2822 3834 2567 4026 \nQ 2313 4219 1838 4219 \nQ 1578 4219 1281 4162 \nQ 984 4106 628 3988 \nL 628 4550 \nQ 988 4650 1302 4700 \nQ 1616 4750 1894 4750 \nQ 2613 4750 3031 4423 \nQ 3450 4097 3450 3541 \nQ 3450 3153 3228 2886 \nQ 3006 2619 2597 2516 \nz\n\" id=\"DejaVuSans-33\" transform=\"scale(0.015625)\"/>\n       </defs>\n       <use xlink:href=\"#DejaVuSans-33\"/>\n      </g>\n     </g>\n    </g>\n   </g>\n   <g id=\"matplotlib.axis_2\">\n    <g id=\"ytick_1\">\n     <g id=\"line2d_5\">\n      <defs>\n       <path d=\"M 0 0 \nL -3.5 0 \n\" id=\"m599f056f55\" style=\"stroke:#000000;stroke-width:0.8;\"/>\n      </defs>\n      <g>\n       <use style=\"stroke:#000000;stroke-width:0.8;\" x=\"23.878125\" xlink:href=\"#m599f056f55\" y=\"47.97\"/>\n      </g>\n     </g>\n     <g id=\"text_5\">\n      <!-- 0 -->\n      <g transform=\"translate(14.798438 50.533281)rotate(-90)scale(0.1 -0.1)\">\n       <use xlink:href=\"#DejaVuSans-30\"/>\n      </g>\n     </g>\n    </g>\n    <g id=\"ytick_2\">\n     <g id=\"line2d_6\">\n      <g>\n       <use style=\"stroke:#000000;stroke-width:0.8;\" x=\"23.878125\" xlink:href=\"#m599f056f55\" y=\"129.51\"/>\n      </g>\n     </g>\n     <g id=\"text_6\">\n      <!-- 1 -->\n      <g transform=\"translate(14.798438 132.073281)rotate(-90)scale(0.1 -0.1)\">\n       <use xlink:href=\"#DejaVuSans-31\"/>\n      </g>\n     </g>\n    </g>\n    <g id=\"ytick_3\">\n     <g id=\"line2d_7\">\n      <g>\n       <use style=\"stroke:#000000;stroke-width:0.8;\" x=\"23.878125\" xlink:href=\"#m599f056f55\" y=\"211.05\"/>\n      </g>\n     </g>\n     <g id=\"text_7\">\n      <!-- 2 -->\n      <g transform=\"translate(14.798438 213.613281)rotate(-90)scale(0.1 -0.1)\">\n       <use xlink:href=\"#DejaVuSans-32\"/>\n      </g>\n     </g>\n    </g>\n    <g id=\"ytick_4\">\n     <g id=\"line2d_8\">\n      <g>\n       <use style=\"stroke:#000000;stroke-width:0.8;\" x=\"23.878125\" xlink:href=\"#m599f056f55\" y=\"292.59\"/>\n      </g>\n     </g>\n     <g id=\"text_8\">\n      <!-- 3 -->\n      <g transform=\"translate(14.798438 295.153281)rotate(-90)scale(0.1 -0.1)\">\n       <use xlink:href=\"#DejaVuSans-33\"/>\n      </g>\n     </g>\n    </g>\n   </g>\n   <g id=\"text_9\">\n    <!-- 98 -->\n    <g style=\"fill:#262626;\" transform=\"translate(56.575625 50.729375)scale(0.1 -0.1)\">\n     <defs>\n      <path d=\"M 703 97 \nL 703 672 \nQ 941 559 1184 500 \nQ 1428 441 1663 441 \nQ 2288 441 2617 861 \nQ 2947 1281 2994 2138 \nQ 2813 1869 2534 1725 \nQ 2256 1581 1919 1581 \nQ 1219 1581 811 2004 \nQ 403 2428 403 3163 \nQ 403 3881 828 4315 \nQ 1253 4750 1959 4750 \nQ 2769 4750 3195 4129 \nQ 3622 3509 3622 2328 \nQ 3622 1225 3098 567 \nQ 2575 -91 1691 -91 \nQ 1453 -91 1209 -44 \nQ 966 3 703 97 \nz\nM 1959 2075 \nQ 2384 2075 2632 2365 \nQ 2881 2656 2881 3163 \nQ 2881 3666 2632 3958 \nQ 2384 4250 1959 4250 \nQ 1534 4250 1286 3958 \nQ 1038 3666 1038 3163 \nQ 1038 2656 1286 2365 \nQ 1534 2075 1959 2075 \nz\n\" id=\"DejaVuSans-39\" transform=\"scale(0.015625)\"/>\n      <path d=\"M 2034 2216 \nQ 1584 2216 1326 1975 \nQ 1069 1734 1069 1313 \nQ 1069 891 1326 650 \nQ 1584 409 2034 409 \nQ 2484 409 2743 651 \nQ 3003 894 3003 1313 \nQ 3003 1734 2745 1975 \nQ 2488 2216 2034 2216 \nz\nM 1403 2484 \nQ 997 2584 770 2862 \nQ 544 3141 544 3541 \nQ 544 4100 942 4425 \nQ 1341 4750 2034 4750 \nQ 2731 4750 3128 4425 \nQ 3525 4100 3525 3541 \nQ 3525 3141 3298 2862 \nQ 3072 2584 2669 2484 \nQ 3125 2378 3379 2068 \nQ 3634 1759 3634 1313 \nQ 3634 634 3220 271 \nQ 2806 -91 2034 -91 \nQ 1263 -91 848 271 \nQ 434 634 434 1313 \nQ 434 1759 690 2068 \nQ 947 2378 1403 2484 \nz\nM 1172 3481 \nQ 1172 3119 1398 2916 \nQ 1625 2713 2034 2713 \nQ 2441 2713 2670 2916 \nQ 2900 3119 2900 3481 \nQ 2900 3844 2670 4047 \nQ 2441 4250 2034 4250 \nQ 1625 4250 1398 4047 \nQ 1172 3844 1172 3481 \nz\n\" id=\"DejaVuSans-38\" transform=\"scale(0.015625)\"/>\n     </defs>\n     <use xlink:href=\"#DejaVuSans-39\"/>\n     <use x=\"63.623047\" xlink:href=\"#DejaVuSans-38\"/>\n    </g>\n   </g>\n   <g id=\"text_10\">\n    <!-- 0 -->\n    <g style=\"fill:#ffffff;\" transform=\"translate(137.876875 50.729375)scale(0.1 -0.1)\">\n     <use xlink:href=\"#DejaVuSans-30\"/>\n    </g>\n   </g>\n   <g id=\"text_11\">\n    <!-- 0 -->\n    <g style=\"fill:#ffffff;\" transform=\"translate(215.996875 50.729375)scale(0.1 -0.1)\">\n     <use xlink:href=\"#DejaVuSans-30\"/>\n    </g>\n   </g>\n   <g id=\"text_12\">\n    <!-- 0 -->\n    <g style=\"fill:#ffffff;\" transform=\"translate(294.116875 50.729375)scale(0.1 -0.1)\">\n     <use xlink:href=\"#DejaVuSans-30\"/>\n    </g>\n   </g>\n   <g id=\"text_13\">\n    <!-- 0 -->\n    <g style=\"fill:#ffffff;\" transform=\"translate(59.756875 132.269375)scale(0.1 -0.1)\">\n     <use xlink:href=\"#DejaVuSans-30\"/>\n    </g>\n   </g>\n   <g id=\"text_14\">\n    <!-- 99 -->\n    <g style=\"fill:#262626;\" transform=\"translate(134.695625 132.269375)scale(0.1 -0.1)\">\n     <use xlink:href=\"#DejaVuSans-39\"/>\n     <use x=\"63.623047\" xlink:href=\"#DejaVuSans-39\"/>\n    </g>\n   </g>\n   <g id=\"text_15\">\n    <!-- 0 -->\n    <g style=\"fill:#ffffff;\" transform=\"translate(215.996875 132.269375)scale(0.1 -0.1)\">\n     <use xlink:href=\"#DejaVuSans-30\"/>\n    </g>\n   </g>\n   <g id=\"text_16\">\n    <!-- 0 -->\n    <g style=\"fill:#ffffff;\" transform=\"translate(294.116875 132.269375)scale(0.1 -0.1)\">\n     <use xlink:href=\"#DejaVuSans-30\"/>\n    </g>\n   </g>\n   <g id=\"text_17\">\n    <!-- 0 -->\n    <g style=\"fill:#ffffff;\" transform=\"translate(59.756875 213.809375)scale(0.1 -0.1)\">\n     <use xlink:href=\"#DejaVuSans-30\"/>\n    </g>\n   </g>\n   <g id=\"text_18\">\n    <!-- 0 -->\n    <g style=\"fill:#ffffff;\" transform=\"translate(137.876875 213.809375)scale(0.1 -0.1)\">\n     <use xlink:href=\"#DejaVuSans-30\"/>\n    </g>\n   </g>\n   <g id=\"text_19\">\n    <!-- 76 -->\n    <g style=\"fill:#ffffff;\" transform=\"translate(212.815625 213.809375)scale(0.1 -0.1)\">\n     <defs>\n      <path d=\"M 525 4666 \nL 3525 4666 \nL 3525 4397 \nL 1831 0 \nL 1172 0 \nL 2766 4134 \nL 525 4134 \nL 525 4666 \nz\n\" id=\"DejaVuSans-37\" transform=\"scale(0.015625)\"/>\n      <path d=\"M 2113 2584 \nQ 1688 2584 1439 2293 \nQ 1191 2003 1191 1497 \nQ 1191 994 1439 701 \nQ 1688 409 2113 409 \nQ 2538 409 2786 701 \nQ 3034 994 3034 1497 \nQ 3034 2003 2786 2293 \nQ 2538 2584 2113 2584 \nz\nM 3366 4563 \nL 3366 3988 \nQ 3128 4100 2886 4159 \nQ 2644 4219 2406 4219 \nQ 1781 4219 1451 3797 \nQ 1122 3375 1075 2522 \nQ 1259 2794 1537 2939 \nQ 1816 3084 2150 3084 \nQ 2853 3084 3261 2657 \nQ 3669 2231 3669 1497 \nQ 3669 778 3244 343 \nQ 2819 -91 2113 -91 \nQ 1303 -91 875 529 \nQ 447 1150 447 2328 \nQ 447 3434 972 4092 \nQ 1497 4750 2381 4750 \nQ 2619 4750 2861 4703 \nQ 3103 4656 3366 4563 \nz\n\" id=\"DejaVuSans-36\" transform=\"scale(0.015625)\"/>\n     </defs>\n     <use xlink:href=\"#DejaVuSans-37\"/>\n     <use x=\"63.623047\" xlink:href=\"#DejaVuSans-36\"/>\n    </g>\n   </g>\n   <g id=\"text_20\">\n    <!-- 0 -->\n    <g style=\"fill:#ffffff;\" transform=\"translate(294.116875 213.809375)scale(0.1 -0.1)\">\n     <use xlink:href=\"#DejaVuSans-30\"/>\n    </g>\n   </g>\n   <g id=\"text_21\">\n    <!-- 0 -->\n    <g style=\"fill:#ffffff;\" transform=\"translate(59.756875 295.349375)scale(0.1 -0.1)\">\n     <use xlink:href=\"#DejaVuSans-30\"/>\n    </g>\n   </g>\n   <g id=\"text_22\">\n    <!-- 0 -->\n    <g style=\"fill:#ffffff;\" transform=\"translate(137.876875 295.349375)scale(0.1 -0.1)\">\n     <use xlink:href=\"#DejaVuSans-30\"/>\n    </g>\n   </g>\n   <g id=\"text_23\">\n    <!-- 1 -->\n    <g style=\"fill:#ffffff;\" transform=\"translate(215.996875 295.349375)scale(0.1 -0.1)\">\n     <use xlink:href=\"#DejaVuSans-31\"/>\n    </g>\n   </g>\n   <g id=\"text_24\">\n    <!-- 75 -->\n    <g style=\"fill:#ffffff;\" transform=\"translate(290.935625 295.349375)scale(0.1 -0.1)\">\n     <defs>\n      <path d=\"M 691 4666 \nL 3169 4666 \nL 3169 4134 \nL 1269 4134 \nL 1269 2991 \nQ 1406 3038 1543 3061 \nQ 1681 3084 1819 3084 \nQ 2600 3084 3056 2656 \nQ 3513 2228 3513 1497 \nQ 3513 744 3044 326 \nQ 2575 -91 1722 -91 \nQ 1428 -91 1123 -41 \nQ 819 9 494 109 \nL 494 744 \nQ 775 591 1075 516 \nQ 1375 441 1709 441 \nQ 2250 441 2565 725 \nQ 2881 1009 2881 1497 \nQ 2881 1984 2565 2268 \nQ 2250 2553 1709 2553 \nQ 1456 2553 1204 2497 \nQ 953 2441 691 2322 \nL 691 4666 \nz\n\" id=\"DejaVuSans-35\" transform=\"scale(0.015625)\"/>\n     </defs>\n     <use xlink:href=\"#DejaVuSans-37\"/>\n     <use x=\"63.623047\" xlink:href=\"#DejaVuSans-35\"/>\n    </g>\n   </g>\n  </g>\n  <g id=\"axes_2\">\n   <g id=\"patch_3\">\n    <path d=\"M 355.888125 333.36 \nL 372.196125 333.36 \nL 372.196125 7.2 \nL 355.888125 7.2 \nz\n\" style=\"fill:#ffffff;\"/>\n   </g>\n   <g id=\"patch_4\">\n    <path clip-path=\"url(#pccb9867277)\" d=\"M 355.888125 333.36 \nL 355.888125 332.085937 \nL 355.888125 8.474062 \nL 355.888125 7.2 \nL 372.196125 7.2 \nL 372.196125 8.474062 \nL 372.196125 332.085937 \nL 372.196125 333.36 \nL 372.196125 333.36 \nz\n\" style=\"fill:#ffffff;stroke:#ffffff;stroke-linejoin:miter;stroke-width:0.01;\"/>\n   </g>\n   <image height=\"326\" id=\"image30efc711ee\" transform=\"scale(1 -1)translate(0 -326)\" width=\"16\" x=\"356\" xlink:href=\"data:image/png;base64,\niVBORw0KGgoAAAANSUhEUgAAABAAAAFGCAYAAABjUx8/AAABuklEQVR4nO2cwQ3DMAwD7dRdovvvmQ5xAo4WlH8E6kxKAdJmf76/d4HrbHL3WuvszUo8UABXcPaiBXQGj86AK/Ah2j4YiAlxTkgjNpJ9ChFGYiL8mViwG+0WWqRxIPoDxVeQkMb7GeAWOAN0e5OxbhsJK4iASBXoRioIkw0xwEg8C1SBPQ8qnAgLNGCgbyb/FHoYiV0RY91W4EPUfeCfQkQasYJhwNOI3jJ1gYgL2E4MYKAbKYABLjAQC+aBDtFnMEbiDHALFUZiPXAG+nYugPhSiFRBAAPdSBsrYAISxrrOACtIcCJMUwQDWGDDZ5zz0AIBIw23YEOseEGBC+hGgi1UQNQZwO2aAJG3cH8aYQnOYIwUwAAr6OFEpiDCSFDB6gDRLkCbCICot4AVVBgJvqgqgCgrqDASfftvM8AtRDhRLhDwwzadwVkPw9AjjbQA3CwBEAtO4X4G9A9Rk8YEiOPEhN1IrXwWX64Y4hjJZ8DXu80gAGJAmOxTmJEWwkBPY8DT+v0QfSf6DMZIXMHeH1QgAeL1pxCRRuaDSWNBmHoYyT4FauUOEOnHhTqkcUZawUem9GOsgMh88AfoPi5LGbweAAAAAABJRU5ErkJggg==\" y=\"-7\"/>\n   <g id=\"matplotlib.axis_3\"/>\n   <g id=\"matplotlib.axis_4\">\n    <g id=\"ytick_5\">\n     <g id=\"line2d_9\">\n      <defs>\n       <path d=\"M 0 0 \nL 3.5 0 \n\" id=\"m92654860b5\" style=\"stroke:#000000;stroke-width:0.8;\"/>\n      </defs>\n      <g>\n       <use style=\"stroke:#000000;stroke-width:0.8;\" x=\"372.196125\" xlink:href=\"#m92654860b5\" y=\"333.36\"/>\n      </g>\n     </g>\n     <g id=\"text_25\">\n      <!-- 0 -->\n      <g transform=\"translate(379.196125 337.159219)scale(0.1 -0.1)\">\n       <use xlink:href=\"#DejaVuSans-30\"/>\n      </g>\n     </g>\n    </g>\n    <g id=\"ytick_6\">\n     <g id=\"line2d_10\">\n      <g>\n       <use style=\"stroke:#000000;stroke-width:0.8;\" x=\"372.196125\" xlink:href=\"#m92654860b5\" y=\"267.469091\"/>\n      </g>\n     </g>\n     <g id=\"text_26\">\n      <!-- 20 -->\n      <g transform=\"translate(379.196125 271.26831)scale(0.1 -0.1)\">\n       <use xlink:href=\"#DejaVuSans-32\"/>\n       <use x=\"63.623047\" xlink:href=\"#DejaVuSans-30\"/>\n      </g>\n     </g>\n    </g>\n    <g id=\"ytick_7\">\n     <g id=\"line2d_11\">\n      <g>\n       <use style=\"stroke:#000000;stroke-width:0.8;\" x=\"372.196125\" xlink:href=\"#m92654860b5\" y=\"201.578182\"/>\n      </g>\n     </g>\n     <g id=\"text_27\">\n      <!-- 40 -->\n      <g transform=\"translate(379.196125 205.377401)scale(0.1 -0.1)\">\n       <defs>\n        <path d=\"M 2419 4116 \nL 825 1625 \nL 2419 1625 \nL 2419 4116 \nz\nM 2253 4666 \nL 3047 4666 \nL 3047 1625 \nL 3713 1625 \nL 3713 1100 \nL 3047 1100 \nL 3047 0 \nL 2419 0 \nL 2419 1100 \nL 313 1100 \nL 313 1709 \nL 2253 4666 \nz\n\" id=\"DejaVuSans-34\" transform=\"scale(0.015625)\"/>\n       </defs>\n       <use xlink:href=\"#DejaVuSans-34\"/>\n       <use x=\"63.623047\" xlink:href=\"#DejaVuSans-30\"/>\n      </g>\n     </g>\n    </g>\n    <g id=\"ytick_8\">\n     <g id=\"line2d_12\">\n      <g>\n       <use style=\"stroke:#000000;stroke-width:0.8;\" x=\"372.196125\" xlink:href=\"#m92654860b5\" y=\"135.687273\"/>\n      </g>\n     </g>\n     <g id=\"text_28\">\n      <!-- 60 -->\n      <g transform=\"translate(379.196125 139.486491)scale(0.1 -0.1)\">\n       <use xlink:href=\"#DejaVuSans-36\"/>\n       <use x=\"63.623047\" xlink:href=\"#DejaVuSans-30\"/>\n      </g>\n     </g>\n    </g>\n    <g id=\"ytick_9\">\n     <g id=\"line2d_13\">\n      <g>\n       <use style=\"stroke:#000000;stroke-width:0.8;\" x=\"372.196125\" xlink:href=\"#m92654860b5\" y=\"69.796364\"/>\n      </g>\n     </g>\n     <g id=\"text_29\">\n      <!-- 80 -->\n      <g transform=\"translate(379.196125 73.595582)scale(0.1 -0.1)\">\n       <use xlink:href=\"#DejaVuSans-38\"/>\n       <use x=\"63.623047\" xlink:href=\"#DejaVuSans-30\"/>\n      </g>\n     </g>\n    </g>\n   </g>\n   <g id=\"LineCollection_1\"/>\n   <g id=\"patch_5\">\n    <path d=\"M 355.888125 333.36 \nL 355.888125 332.085937 \nL 355.888125 8.474062 \nL 355.888125 7.2 \nL 372.196125 7.2 \nL 372.196125 8.474062 \nL 372.196125 332.085937 \nL 372.196125 333.36 \nz\n\" style=\"fill:none;\"/>\n   </g>\n  </g>\n </g>\n <defs>\n  <clipPath id=\"pf3e7970ce1\">\n   <rect height=\"326.16\" width=\"312.48\" x=\"23.878125\" y=\"7.2\"/>\n  </clipPath>\n  <clipPath id=\"pccb9867277\">\n   <rect height=\"326.16\" width=\"16.308\" x=\"355.888125\" y=\"7.2\"/>\n  </clipPath>\n </defs>\n</svg>\n",
            "image/png": "[encoded data removed]"
          },
          "metadata": {
            "needs_background": "light"
          }
        },
        {
          "output_type": "stream",
          "name": "stdout",
          "text": [
            "Classification Report\n              precision    recall  f1-score   support\n\n           0       1.00      1.00      1.00        98\n           1       1.00      1.00      1.00        99\n           2       0.99      1.00      0.99        76\n           3       1.00      0.99      0.99        76\n\n    accuracy                           1.00       349\n   macro avg       1.00      1.00      1.00       349\nweighted avg       1.00      1.00      1.00       349\n\n"
          ]
        }
      ]
    },
    {
      "cell_type": "markdown",
      "metadata": {
        "id": "FNP6aqzc9hE5"
      },
      "source": [
        "# Convert to model for Tensorflow-Lite"
      ]
    },
    {
      "cell_type": "code",
      "metadata": {
        "id": "ODjnYyld9hE6"
      },
      "source": [
        "# Save as a model dedicated to inference\n",
        "model.save(model_save_path, include_optimizer=False)"
      ],
      "execution_count": 41,
      "outputs": []
    },
    {
      "cell_type": "code",
      "metadata": {
        "id": "zRfuK8Y59hE6",
        "colab": {
          "base_uri": "https://localhost:8080/"
        },
        "outputId": "a4ca585c-b5d5-4244-8291-8674063209bb"
      },
      "source": [
        "# Transform model (quantization)\n",
        "\n",
        "converter = tf.lite.TFLiteConverter.from_keras_model(model)\n",
        "converter.optimizations = [tf.lite.Optimize.DEFAULT]\n",
        "tflite_quantized_model = converter.convert()\n",
        "\n",
        "open(tflite_save_path, 'wb').write(tflite_quantized_model)"
      ],
      "execution_count": 42,
      "outputs": [
        {
          "output_type": "stream",
          "name": "stdout",
          "text": [
            "INFO:tensorflow:Assets written to: /tmp/tmp8fguz3nj/assets\n",
            "INFO:tensorflow:Assets written to: /tmp/tmp8fguz3nj/assets\n"
          ]
        },
        {
          "output_type": "execute_result",
          "data": {
            "text/plain": [
              "6400"
            ]
          },
          "metadata": {},
          "execution_count": 42
        }
      ]
    },
    {
      "cell_type": "markdown",
      "metadata": {
        "id": "CHBPBXdx9hE6"
      },
      "source": [
        "# Inference test"
      ]
    },
    {
      "cell_type": "code",
      "metadata": {
        "id": "mGAzLocO9hE7"
      },
      "source": [
        "interpreter = tf.lite.Interpreter(model_path=tflite_save_path)\n",
        "interpreter.allocate_tensors()"
      ],
      "execution_count": 43,
      "outputs": []
    },
    {
      "cell_type": "code",
      "metadata": {
        "id": "oQuDK8YS9hE7"
      },
      "source": [
        "# Get I / O tensor\n",
        "input_details = interpreter.get_input_details()\n",
        "output_details = interpreter.get_output_details()"
      ],
      "execution_count": 44,
      "outputs": []
    },
    {
      "cell_type": "code",
      "metadata": {
        "id": "2_ixAf_l9hE7"
      },
      "source": [
        "interpreter.set_tensor(input_details[0]['index'], np.array([X_test[0]]))"
      ],
      "execution_count": 45,
      "outputs": []
    },
    {
      "cell_type": "code",
      "metadata": {
        "scrolled": true,
        "id": "s4FoAnuc9hE7",
        "colab": {
          "base_uri": "https://localhost:8080/"
        },
        "outputId": "91f18257-8d8b-4ef3-c558-e9b5f94fabbf"
      },
      "source": [
        "%%time\n",
        "# Inference implementation\n",
        "interpreter.invoke()\n",
        "tflite_results = interpreter.get_tensor(output_details[0]['index'])"
      ],
      "execution_count": 46,
      "outputs": [
        {
          "output_type": "stream",
          "name": "stdout",
          "text": [
            "CPU times: user 532 µs, sys: 42 µs, total: 574 µs\nWall time: 539 µs\n"
          ]
        }
      ]
    },
    {
      "cell_type": "code",
      "metadata": {
        "id": "vONjp19J9hE8",
        "colab": {
          "base_uri": "https://localhost:8080/"
        },
        "outputId": "77205e24-fd00-42c4-f7b6-e06e527c2cba"
      },
      "source": [
        "print(np.squeeze(tflite_results))\n",
        "print(np.argmax(np.squeeze(tflite_results)))"
      ],
      "execution_count": 47,
      "outputs": [
        {
          "output_type": "stream",
          "name": "stdout",
          "text": [
            "[5.3976863e-05 3.1559732e-05 1.2801264e-01 8.7190175e-01]\n3\n"
          ]
        }
      ]
    }
  ]
}